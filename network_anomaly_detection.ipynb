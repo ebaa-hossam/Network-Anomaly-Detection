{
  "cells": [
    {
      "cell_type": "code",
      "execution_count": null,
      "id": "89a66731",
      "metadata": {
        "id": "89a66731"
      },
      "outputs": [],
      "source": [
        "import os\n",
        "import sys\n",
        "\n",
        "%matplotlib inline\n",
        "import math\n",
        "import matplotlib.pyplot as plt\n",
        "import pandas as pd\n",
        "import numpy as np\n",
        "import matplotlib.patches as mpatches\n",
        "from operator import add\n",
        "import seaborn as sns\n",
        "\n",
        "from mpl_toolkits.mplot3d import Axes3D\n",
        "float_formatter = lambda x: \"%.3f\" % x\n",
        "np.set_printoptions(formatter={'float_kind':float_formatter})\n",
        "from sklearn.cluster import SpectralClustering, KMeans\n",
        "from sklearn.metrics import pairwise_distances, silhouette_score, precision_score, recall_score\n",
        "from sklearn.metrics.pairwise import rbf_kernel\n",
        "from sklearn.metrics.pairwise import cosine_similarity\n",
        "\n",
        "import networkx as nx\n",
        "from sklearn.model_selection import train_test_split\n",
        "sns.set()"
      ]
    },
    {
      "cell_type": "code",
      "source": [
        "# from google.colab import drive\n",
        "# drive.mount('/content/drive')"
      ],
      "metadata": {
        "id": "0APpkH54C1Pj"
      },
      "id": "0APpkH54C1Pj",
      "execution_count": null,
      "outputs": []
    },
    {
      "cell_type": "code",
      "execution_count": null,
      "id": "d5b6e5d5",
      "metadata": {
        "id": "d5b6e5d5"
      },
      "outputs": [],
      "source": [
        "np.random.seed(42)"
      ]
    },
    {
      "cell_type": "code",
      "execution_count": null,
      "id": "c2e9942b",
      "metadata": {
        "id": "c2e9942b"
      },
      "outputs": [],
      "source": [
        "feature = [\"duration\",\"protocol_type\",\"service\",\"flag\",\"src_bytes\",\n",
        "    \"dst_bytes\",\"land\",\"wrong_fragment\",\"urgent\",\"hot\",\"num_failed_logins\",\n",
        "    \"logged_in\",\"num_compromised\",\"root_shell\",\"su_attempted\",\"num_root\",\n",
        "    \"num_file_creations\",\"num_shells\",\"num_access_files\",\"num_outbound_cmds\",\n",
        "    \"is_host_login\",\"is_guest_login\",\"count\",\"srv_count\",\"serror_rate\",\n",
        "    \"srv_serror_rate\",\"rerror_rate\",\"srv_rerror_rate\",\"same_srv_rate\",\n",
        "    \"diff_srv_rate\",\"srv_diff_host_rate\",\"dst_host_count\",\"dst_host_srv_count\",\n",
        "    \"dst_host_same_srv_rate\",\"dst_host_diff_srv_rate\",\"dst_host_same_src_port_rate\",\n",
        "    \"dst_host_srv_diff_host_rate\",\"dst_host_serror_rate\",\"dst_host_srv_serror_rate\",\n",
        "    \"dst_host_rerror_rate\",\"dst_host_srv_rerror_rate\",\"target\"]"
      ]
    },
    {
      "cell_type": "code",
      "execution_count": null,
      "id": "ad2840d3",
      "metadata": {
        "id": "ad2840d3"
      },
      "outputs": [],
      "source": [
        "train_data=pd.read_csv(\"/content/drive/My Drive/kddcup.data.gz\", names = feature)"
      ]
    },
    {
      "cell_type": "code",
      "execution_count": null,
      "id": "eecf1b83",
      "metadata": {
        "colab": {
          "base_uri": "https://localhost:8080/",
          "height": 487
        },
        "id": "eecf1b83",
        "outputId": "40d5593a-f552-442f-ad8f-5c18ce975037"
      },
      "outputs": [
        {
          "output_type": "execute_result",
          "data": {
            "text/plain": [
              "         duration protocol_type service flag  src_bytes  dst_bytes  land  \\\n",
              "0               0           tcp    http   SF        215      45076     0   \n",
              "1               0           tcp    http   SF        162       4528     0   \n",
              "2               0           tcp    http   SF        236       1228     0   \n",
              "3               0           tcp    http   SF        233       2032     0   \n",
              "4               0           tcp    http   SF        239        486     0   \n",
              "...           ...           ...     ...  ...        ...        ...   ...   \n",
              "4898426         0           tcp    http   SF        212       2288     0   \n",
              "4898427         0           tcp    http   SF        219        236     0   \n",
              "4898428         0           tcp    http   SF        218       3610     0   \n",
              "4898429         0           tcp    http   SF        219       1234     0   \n",
              "4898430         0           tcp    http   SF        219       1098     0   \n",
              "\n",
              "         wrong_fragment  urgent  hot  ...  dst_host_srv_count  \\\n",
              "0                     0       0    0  ...                   0   \n",
              "1                     0       0    0  ...                   1   \n",
              "2                     0       0    0  ...                   2   \n",
              "3                     0       0    0  ...                   3   \n",
              "4                     0       0    0  ...                   4   \n",
              "...                 ...     ...  ...  ...                 ...   \n",
              "4898426               0       0    0  ...                 255   \n",
              "4898427               0       0    0  ...                 255   \n",
              "4898428               0       0    0  ...                 255   \n",
              "4898429               0       0    0  ...                 255   \n",
              "4898430               0       0    0  ...                 255   \n",
              "\n",
              "         dst_host_same_srv_rate  dst_host_diff_srv_rate  \\\n",
              "0                           0.0                     0.0   \n",
              "1                           1.0                     0.0   \n",
              "2                           1.0                     0.0   \n",
              "3                           1.0                     0.0   \n",
              "4                           1.0                     0.0   \n",
              "...                         ...                     ...   \n",
              "4898426                     1.0                     0.0   \n",
              "4898427                     1.0                     0.0   \n",
              "4898428                     1.0                     0.0   \n",
              "4898429                     1.0                     0.0   \n",
              "4898430                     1.0                     0.0   \n",
              "\n",
              "         dst_host_same_src_port_rate  dst_host_srv_diff_host_rate  \\\n",
              "0                               0.00                         0.00   \n",
              "1                               1.00                         0.00   \n",
              "2                               0.50                         0.00   \n",
              "3                               0.33                         0.00   \n",
              "4                               0.25                         0.00   \n",
              "...                              ...                          ...   \n",
              "4898426                         0.33                         0.05   \n",
              "4898427                         0.25                         0.05   \n",
              "4898428                         0.20                         0.05   \n",
              "4898429                         0.17                         0.05   \n",
              "4898430                         0.14                         0.05   \n",
              "\n",
              "         dst_host_serror_rate  dst_host_srv_serror_rate  dst_host_rerror_rate  \\\n",
              "0                         0.0                      0.00                   0.0   \n",
              "1                         0.0                      0.00                   0.0   \n",
              "2                         0.0                      0.00                   0.0   \n",
              "3                         0.0                      0.00                   0.0   \n",
              "4                         0.0                      0.00                   0.0   \n",
              "...                       ...                       ...                   ...   \n",
              "4898426                   0.0                      0.01                   0.0   \n",
              "4898427                   0.0                      0.01                   0.0   \n",
              "4898428                   0.0                      0.01                   0.0   \n",
              "4898429                   0.0                      0.01                   0.0   \n",
              "4898430                   0.0                      0.01                   0.0   \n",
              "\n",
              "         dst_host_srv_rerror_rate   target  \n",
              "0                             0.0  normal.  \n",
              "1                             0.0  normal.  \n",
              "2                             0.0  normal.  \n",
              "3                             0.0  normal.  \n",
              "4                             0.0  normal.  \n",
              "...                           ...      ...  \n",
              "4898426                       0.0  normal.  \n",
              "4898427                       0.0  normal.  \n",
              "4898428                       0.0  normal.  \n",
              "4898429                       0.0  normal.  \n",
              "4898430                       0.0  normal.  \n",
              "\n",
              "[4898431 rows x 42 columns]"
            ],
            "text/html": [
              "\n",
              "  <div id=\"df-bd3429f6-bf80-468a-ba74-8e3f30e05f07\">\n",
              "    <div class=\"colab-df-container\">\n",
              "      <div>\n",
              "<style scoped>\n",
              "    .dataframe tbody tr th:only-of-type {\n",
              "        vertical-align: middle;\n",
              "    }\n",
              "\n",
              "    .dataframe tbody tr th {\n",
              "        vertical-align: top;\n",
              "    }\n",
              "\n",
              "    .dataframe thead th {\n",
              "        text-align: right;\n",
              "    }\n",
              "</style>\n",
              "<table border=\"1\" class=\"dataframe\">\n",
              "  <thead>\n",
              "    <tr style=\"text-align: right;\">\n",
              "      <th></th>\n",
              "      <th>duration</th>\n",
              "      <th>protocol_type</th>\n",
              "      <th>service</th>\n",
              "      <th>flag</th>\n",
              "      <th>src_bytes</th>\n",
              "      <th>dst_bytes</th>\n",
              "      <th>land</th>\n",
              "      <th>wrong_fragment</th>\n",
              "      <th>urgent</th>\n",
              "      <th>hot</th>\n",
              "      <th>...</th>\n",
              "      <th>dst_host_srv_count</th>\n",
              "      <th>dst_host_same_srv_rate</th>\n",
              "      <th>dst_host_diff_srv_rate</th>\n",
              "      <th>dst_host_same_src_port_rate</th>\n",
              "      <th>dst_host_srv_diff_host_rate</th>\n",
              "      <th>dst_host_serror_rate</th>\n",
              "      <th>dst_host_srv_serror_rate</th>\n",
              "      <th>dst_host_rerror_rate</th>\n",
              "      <th>dst_host_srv_rerror_rate</th>\n",
              "      <th>target</th>\n",
              "    </tr>\n",
              "  </thead>\n",
              "  <tbody>\n",
              "    <tr>\n",
              "      <th>0</th>\n",
              "      <td>0</td>\n",
              "      <td>tcp</td>\n",
              "      <td>http</td>\n",
              "      <td>SF</td>\n",
              "      <td>215</td>\n",
              "      <td>45076</td>\n",
              "      <td>0</td>\n",
              "      <td>0</td>\n",
              "      <td>0</td>\n",
              "      <td>0</td>\n",
              "      <td>...</td>\n",
              "      <td>0</td>\n",
              "      <td>0.0</td>\n",
              "      <td>0.0</td>\n",
              "      <td>0.00</td>\n",
              "      <td>0.00</td>\n",
              "      <td>0.0</td>\n",
              "      <td>0.00</td>\n",
              "      <td>0.0</td>\n",
              "      <td>0.0</td>\n",
              "      <td>normal.</td>\n",
              "    </tr>\n",
              "    <tr>\n",
              "      <th>1</th>\n",
              "      <td>0</td>\n",
              "      <td>tcp</td>\n",
              "      <td>http</td>\n",
              "      <td>SF</td>\n",
              "      <td>162</td>\n",
              "      <td>4528</td>\n",
              "      <td>0</td>\n",
              "      <td>0</td>\n",
              "      <td>0</td>\n",
              "      <td>0</td>\n",
              "      <td>...</td>\n",
              "      <td>1</td>\n",
              "      <td>1.0</td>\n",
              "      <td>0.0</td>\n",
              "      <td>1.00</td>\n",
              "      <td>0.00</td>\n",
              "      <td>0.0</td>\n",
              "      <td>0.00</td>\n",
              "      <td>0.0</td>\n",
              "      <td>0.0</td>\n",
              "      <td>normal.</td>\n",
              "    </tr>\n",
              "    <tr>\n",
              "      <th>2</th>\n",
              "      <td>0</td>\n",
              "      <td>tcp</td>\n",
              "      <td>http</td>\n",
              "      <td>SF</td>\n",
              "      <td>236</td>\n",
              "      <td>1228</td>\n",
              "      <td>0</td>\n",
              "      <td>0</td>\n",
              "      <td>0</td>\n",
              "      <td>0</td>\n",
              "      <td>...</td>\n",
              "      <td>2</td>\n",
              "      <td>1.0</td>\n",
              "      <td>0.0</td>\n",
              "      <td>0.50</td>\n",
              "      <td>0.00</td>\n",
              "      <td>0.0</td>\n",
              "      <td>0.00</td>\n",
              "      <td>0.0</td>\n",
              "      <td>0.0</td>\n",
              "      <td>normal.</td>\n",
              "    </tr>\n",
              "    <tr>\n",
              "      <th>3</th>\n",
              "      <td>0</td>\n",
              "      <td>tcp</td>\n",
              "      <td>http</td>\n",
              "      <td>SF</td>\n",
              "      <td>233</td>\n",
              "      <td>2032</td>\n",
              "      <td>0</td>\n",
              "      <td>0</td>\n",
              "      <td>0</td>\n",
              "      <td>0</td>\n",
              "      <td>...</td>\n",
              "      <td>3</td>\n",
              "      <td>1.0</td>\n",
              "      <td>0.0</td>\n",
              "      <td>0.33</td>\n",
              "      <td>0.00</td>\n",
              "      <td>0.0</td>\n",
              "      <td>0.00</td>\n",
              "      <td>0.0</td>\n",
              "      <td>0.0</td>\n",
              "      <td>normal.</td>\n",
              "    </tr>\n",
              "    <tr>\n",
              "      <th>4</th>\n",
              "      <td>0</td>\n",
              "      <td>tcp</td>\n",
              "      <td>http</td>\n",
              "      <td>SF</td>\n",
              "      <td>239</td>\n",
              "      <td>486</td>\n",
              "      <td>0</td>\n",
              "      <td>0</td>\n",
              "      <td>0</td>\n",
              "      <td>0</td>\n",
              "      <td>...</td>\n",
              "      <td>4</td>\n",
              "      <td>1.0</td>\n",
              "      <td>0.0</td>\n",
              "      <td>0.25</td>\n",
              "      <td>0.00</td>\n",
              "      <td>0.0</td>\n",
              "      <td>0.00</td>\n",
              "      <td>0.0</td>\n",
              "      <td>0.0</td>\n",
              "      <td>normal.</td>\n",
              "    </tr>\n",
              "    <tr>\n",
              "      <th>...</th>\n",
              "      <td>...</td>\n",
              "      <td>...</td>\n",
              "      <td>...</td>\n",
              "      <td>...</td>\n",
              "      <td>...</td>\n",
              "      <td>...</td>\n",
              "      <td>...</td>\n",
              "      <td>...</td>\n",
              "      <td>...</td>\n",
              "      <td>...</td>\n",
              "      <td>...</td>\n",
              "      <td>...</td>\n",
              "      <td>...</td>\n",
              "      <td>...</td>\n",
              "      <td>...</td>\n",
              "      <td>...</td>\n",
              "      <td>...</td>\n",
              "      <td>...</td>\n",
              "      <td>...</td>\n",
              "      <td>...</td>\n",
              "      <td>...</td>\n",
              "    </tr>\n",
              "    <tr>\n",
              "      <th>4898426</th>\n",
              "      <td>0</td>\n",
              "      <td>tcp</td>\n",
              "      <td>http</td>\n",
              "      <td>SF</td>\n",
              "      <td>212</td>\n",
              "      <td>2288</td>\n",
              "      <td>0</td>\n",
              "      <td>0</td>\n",
              "      <td>0</td>\n",
              "      <td>0</td>\n",
              "      <td>...</td>\n",
              "      <td>255</td>\n",
              "      <td>1.0</td>\n",
              "      <td>0.0</td>\n",
              "      <td>0.33</td>\n",
              "      <td>0.05</td>\n",
              "      <td>0.0</td>\n",
              "      <td>0.01</td>\n",
              "      <td>0.0</td>\n",
              "      <td>0.0</td>\n",
              "      <td>normal.</td>\n",
              "    </tr>\n",
              "    <tr>\n",
              "      <th>4898427</th>\n",
              "      <td>0</td>\n",
              "      <td>tcp</td>\n",
              "      <td>http</td>\n",
              "      <td>SF</td>\n",
              "      <td>219</td>\n",
              "      <td>236</td>\n",
              "      <td>0</td>\n",
              "      <td>0</td>\n",
              "      <td>0</td>\n",
              "      <td>0</td>\n",
              "      <td>...</td>\n",
              "      <td>255</td>\n",
              "      <td>1.0</td>\n",
              "      <td>0.0</td>\n",
              "      <td>0.25</td>\n",
              "      <td>0.05</td>\n",
              "      <td>0.0</td>\n",
              "      <td>0.01</td>\n",
              "      <td>0.0</td>\n",
              "      <td>0.0</td>\n",
              "      <td>normal.</td>\n",
              "    </tr>\n",
              "    <tr>\n",
              "      <th>4898428</th>\n",
              "      <td>0</td>\n",
              "      <td>tcp</td>\n",
              "      <td>http</td>\n",
              "      <td>SF</td>\n",
              "      <td>218</td>\n",
              "      <td>3610</td>\n",
              "      <td>0</td>\n",
              "      <td>0</td>\n",
              "      <td>0</td>\n",
              "      <td>0</td>\n",
              "      <td>...</td>\n",
              "      <td>255</td>\n",
              "      <td>1.0</td>\n",
              "      <td>0.0</td>\n",
              "      <td>0.20</td>\n",
              "      <td>0.05</td>\n",
              "      <td>0.0</td>\n",
              "      <td>0.01</td>\n",
              "      <td>0.0</td>\n",
              "      <td>0.0</td>\n",
              "      <td>normal.</td>\n",
              "    </tr>\n",
              "    <tr>\n",
              "      <th>4898429</th>\n",
              "      <td>0</td>\n",
              "      <td>tcp</td>\n",
              "      <td>http</td>\n",
              "      <td>SF</td>\n",
              "      <td>219</td>\n",
              "      <td>1234</td>\n",
              "      <td>0</td>\n",
              "      <td>0</td>\n",
              "      <td>0</td>\n",
              "      <td>0</td>\n",
              "      <td>...</td>\n",
              "      <td>255</td>\n",
              "      <td>1.0</td>\n",
              "      <td>0.0</td>\n",
              "      <td>0.17</td>\n",
              "      <td>0.05</td>\n",
              "      <td>0.0</td>\n",
              "      <td>0.01</td>\n",
              "      <td>0.0</td>\n",
              "      <td>0.0</td>\n",
              "      <td>normal.</td>\n",
              "    </tr>\n",
              "    <tr>\n",
              "      <th>4898430</th>\n",
              "      <td>0</td>\n",
              "      <td>tcp</td>\n",
              "      <td>http</td>\n",
              "      <td>SF</td>\n",
              "      <td>219</td>\n",
              "      <td>1098</td>\n",
              "      <td>0</td>\n",
              "      <td>0</td>\n",
              "      <td>0</td>\n",
              "      <td>0</td>\n",
              "      <td>...</td>\n",
              "      <td>255</td>\n",
              "      <td>1.0</td>\n",
              "      <td>0.0</td>\n",
              "      <td>0.14</td>\n",
              "      <td>0.05</td>\n",
              "      <td>0.0</td>\n",
              "      <td>0.01</td>\n",
              "      <td>0.0</td>\n",
              "      <td>0.0</td>\n",
              "      <td>normal.</td>\n",
              "    </tr>\n",
              "  </tbody>\n",
              "</table>\n",
              "<p>4898431 rows × 42 columns</p>\n",
              "</div>\n",
              "      <button class=\"colab-df-convert\" onclick=\"convertToInteractive('df-bd3429f6-bf80-468a-ba74-8e3f30e05f07')\"\n",
              "              title=\"Convert this dataframe to an interactive table.\"\n",
              "              style=\"display:none;\">\n",
              "        \n",
              "  <svg xmlns=\"http://www.w3.org/2000/svg\" height=\"24px\"viewBox=\"0 0 24 24\"\n",
              "       width=\"24px\">\n",
              "    <path d=\"M0 0h24v24H0V0z\" fill=\"none\"/>\n",
              "    <path d=\"M18.56 5.44l.94 2.06.94-2.06 2.06-.94-2.06-.94-.94-2.06-.94 2.06-2.06.94zm-11 1L8.5 8.5l.94-2.06 2.06-.94-2.06-.94L8.5 2.5l-.94 2.06-2.06.94zm10 10l.94 2.06.94-2.06 2.06-.94-2.06-.94-.94-2.06-.94 2.06-2.06.94z\"/><path d=\"M17.41 7.96l-1.37-1.37c-.4-.4-.92-.59-1.43-.59-.52 0-1.04.2-1.43.59L10.3 9.45l-7.72 7.72c-.78.78-.78 2.05 0 2.83L4 21.41c.39.39.9.59 1.41.59.51 0 1.02-.2 1.41-.59l7.78-7.78 2.81-2.81c.8-.78.8-2.07 0-2.86zM5.41 20L4 18.59l7.72-7.72 1.47 1.35L5.41 20z\"/>\n",
              "  </svg>\n",
              "      </button>\n",
              "      \n",
              "  <style>\n",
              "    .colab-df-container {\n",
              "      display:flex;\n",
              "      flex-wrap:wrap;\n",
              "      gap: 12px;\n",
              "    }\n",
              "\n",
              "    .colab-df-convert {\n",
              "      background-color: #E8F0FE;\n",
              "      border: none;\n",
              "      border-radius: 50%;\n",
              "      cursor: pointer;\n",
              "      display: none;\n",
              "      fill: #1967D2;\n",
              "      height: 32px;\n",
              "      padding: 0 0 0 0;\n",
              "      width: 32px;\n",
              "    }\n",
              "\n",
              "    .colab-df-convert:hover {\n",
              "      background-color: #E2EBFA;\n",
              "      box-shadow: 0px 1px 2px rgba(60, 64, 67, 0.3), 0px 1px 3px 1px rgba(60, 64, 67, 0.15);\n",
              "      fill: #174EA6;\n",
              "    }\n",
              "\n",
              "    [theme=dark] .colab-df-convert {\n",
              "      background-color: #3B4455;\n",
              "      fill: #D2E3FC;\n",
              "    }\n",
              "\n",
              "    [theme=dark] .colab-df-convert:hover {\n",
              "      background-color: #434B5C;\n",
              "      box-shadow: 0px 1px 3px 1px rgba(0, 0, 0, 0.15);\n",
              "      filter: drop-shadow(0px 1px 2px rgba(0, 0, 0, 0.3));\n",
              "      fill: #FFFFFF;\n",
              "    }\n",
              "  </style>\n",
              "\n",
              "      <script>\n",
              "        const buttonEl =\n",
              "          document.querySelector('#df-bd3429f6-bf80-468a-ba74-8e3f30e05f07 button.colab-df-convert');\n",
              "        buttonEl.style.display =\n",
              "          google.colab.kernel.accessAllowed ? 'block' : 'none';\n",
              "\n",
              "        async function convertToInteractive(key) {\n",
              "          const element = document.querySelector('#df-bd3429f6-bf80-468a-ba74-8e3f30e05f07');\n",
              "          const dataTable =\n",
              "            await google.colab.kernel.invokeFunction('convertToInteractive',\n",
              "                                                     [key], {});\n",
              "          if (!dataTable) return;\n",
              "\n",
              "          const docLinkHtml = 'Like what you see? Visit the ' +\n",
              "            '<a target=\"_blank\" href=https://colab.research.google.com/notebooks/data_table.ipynb>data table notebook</a>'\n",
              "            + ' to learn more about interactive tables.';\n",
              "          element.innerHTML = '';\n",
              "          dataTable['output_type'] = 'display_data';\n",
              "          await google.colab.output.renderOutput(dataTable, element);\n",
              "          const docLink = document.createElement('div');\n",
              "          docLink.innerHTML = docLinkHtml;\n",
              "          element.appendChild(docLink);\n",
              "        }\n",
              "      </script>\n",
              "    </div>\n",
              "  </div>\n",
              "  "
            ]
          },
          "metadata": {},
          "execution_count": 6
        }
      ],
      "source": [
        "train_data"
      ]
    },
    {
      "cell_type": "code",
      "execution_count": null,
      "id": "b1d7ecce",
      "metadata": {
        "id": "b1d7ecce"
      },
      "outputs": [],
      "source": [
        "train = np.asarray(train_data)"
      ]
    },
    {
      "cell_type": "code",
      "execution_count": null,
      "id": "2301e438",
      "metadata": {
        "id": "2301e438"
      },
      "outputs": [],
      "source": [
        "cols = train_data.iloc[:,-1:]"
      ]
    },
    {
      "cell_type": "code",
      "execution_count": null,
      "id": "a173936e",
      "metadata": {
        "id": "a173936e"
      },
      "outputs": [],
      "source": [
        "lmapping = {'normal.' : 0 , 'buffer_overflow.' : 1 , 'loadmodule.' : 2 , 'perl.' : 3 , 'neptune.' : 4,\n",
        "       'smurf.' : 5 , 'guess_passwd.' : 6 , 'pod.' : 7 , 'teardrop.' : 8 , 'portsweep.' : 9 ,\n",
        "       'ipsweep.' : 17 , 'land.' : 18 , 'ftp_write.' : 19 , 'back.' : 20 , 'imap.' : 21 , 'satan.' : 22 ,\n",
        "       'phf.' : 10 , 'nmap.' : 11 , 'multihop.' : 12 , 'warezmaster.' : 13 , 'warezclient.' : 14 ,\n",
        "       'spy.' : 15 , 'rootkit.' : 16 }\n",
        "cols['target'] = cols['target'].replace(lmapping)"
      ]
    },
    {
      "cell_type": "code",
      "execution_count": null,
      "id": "e6db6c0e",
      "metadata": {
        "id": "e6db6c0e"
      },
      "outputs": [],
      "source": [
        "label = np.asarray(cols)"
      ]
    },
    {
      "cell_type": "code",
      "execution_count": null,
      "id": "34df1450",
      "metadata": {
        "id": "34df1450"
      },
      "outputs": [],
      "source": [
        "vector= train_data.loc[ : , train_data.columns != 'target']"
      ]
    },
    {
      "cell_type": "code",
      "execution_count": null,
      "id": "615a00b4",
      "metadata": {
        "scrolled": true,
        "colab": {
          "base_uri": "https://localhost:8080/"
        },
        "id": "615a00b4",
        "outputId": "5738cfa8-80f3-42c0-9bf2-13df66322c38"
      },
      "outputs": [
        {
          "output_type": "stream",
          "name": "stderr",
          "text": [
            "<ipython-input-12-4e9513c62c8b>:1: SettingWithCopyWarning: \n",
            "A value is trying to be set on a copy of a slice from a DataFrame\n",
            "\n",
            "See the caveats in the documentation: https://pandas.pydata.org/pandas-docs/stable/user_guide/indexing.html#returning-a-view-versus-a-copy\n",
            "  vector.drop('num_outbound_cmds', axis = 1, inplace = True)\n"
          ]
        }
      ],
      "source": [
        "vector.drop('num_outbound_cmds', axis = 1, inplace = True)"
      ]
    },
    {
      "cell_type": "code",
      "execution_count": null,
      "id": "ee5fb7d7",
      "metadata": {
        "scrolled": true,
        "colab": {
          "base_uri": "https://localhost:8080/"
        },
        "id": "ee5fb7d7",
        "outputId": "19aeb8f3-5f29-4aa3-9ff9-a75311186954"
      },
      "outputs": [
        {
          "output_type": "stream",
          "name": "stderr",
          "text": [
            "<ipython-input-13-1f902e99f77a>:12: SettingWithCopyWarning: \n",
            "A value is trying to be set on a copy of a slice from a DataFrame.\n",
            "Try using .loc[row_indexer,col_indexer] = value instead\n",
            "\n",
            "See the caveats in the documentation: https://pandas.pydata.org/pandas-docs/stable/user_guide/indexing.html#returning-a-view-versus-a-copy\n",
            "  vector['protocol_type'] = vector['protocol_type'].replace(pmapping)\n",
            "<ipython-input-13-1f902e99f77a>:13: SettingWithCopyWarning: \n",
            "A value is trying to be set on a copy of a slice from a DataFrame.\n",
            "Try using .loc[row_indexer,col_indexer] = value instead\n",
            "\n",
            "See the caveats in the documentation: https://pandas.pydata.org/pandas-docs/stable/user_guide/indexing.html#returning-a-view-versus-a-copy\n",
            "  vector['service'] = vector['service'].replace(pmapping)\n",
            "<ipython-input-13-1f902e99f77a>:14: SettingWithCopyWarning: \n",
            "A value is trying to be set on a copy of a slice from a DataFrame.\n",
            "Try using .loc[row_indexer,col_indexer] = value instead\n",
            "\n",
            "See the caveats in the documentation: https://pandas.pydata.org/pandas-docs/stable/user_guide/indexing.html#returning-a-view-versus-a-copy\n",
            "  vector['flag'] = vector['flag'].replace(pmapping)\n"
          ]
        }
      ],
      "source": [
        "pmapping = { 'tcp' : 0 , 'http' : 1 , 'SF' : 2 , 'udp' : 3 , 'icmp' : 4 , 'smtp' : 5 , 'finger' : 6 , 'domain_u' : 7, 'auth' : 8, 'telnet' : 9, 'ftp' : 10, 'eco_i' : 11, 'ntp_u' : 12,\n",
        "       'ecr_i' : 13, 'other' : 14 , 'private' : 15 , 'pop_3' : 16 , 'ftp_data' : 17 , 'rje' : 18 , 'time' : 19,\n",
        "       'mtp' : 20 , 'link' : 21 , 'remote_job' : 22 , 'gopher' : 23 , 'ssh' : 24 , 'name' : 25 , 'whois' : 26 ,\n",
        "       'domain' : 27 , 'login' : 28 , 'imap4' : 29 , 'daytime' : 30 , 'ctf' : 31 , 'nntp' : 32 , 'shell' : 33 ,\n",
        "       'IRC' : 34 , 'nnsp' : 35 , 'http_443' : 36 , 'exec' : 37 , 'printer' : 38 , 'efs' : 39 , 'courier' : 40 ,\n",
        "       'uucp' : 41 , 'klogin' : 42 , 'kshell' : 43 , 'echo' : 44 , 'discard' : 45 , 'systat' : 46 , 'supdup' : 47 ,\n",
        "       'iso_tsap' : 48 , 'hostnames' : 49 , 'csnet_ns' : 50 , 'pop_2' : 51 , 'sunrpc' : 52 ,\n",
        "       'uucp_path' : 53 , 'netbios_ns' : 54 , 'netbios_ssn' : 55 , 'netbios_dgm' : 56 , 'sql_net' : 57 ,\n",
        "       'vmnet' : 58 , 'bgp' : 59 , 'Z39_50' : 60 , 'ldap' : 61 , 'netstat' : 62 , 'urh_i' : 63 , 'X11' : 64 ,\n",
        "       'urp_i' : 65 , 'pm_dump' : 66 , 'tftp_u' : 67 , 'tim_i' : 68 , 'red_i' : 69 , 'S1' : 70 , 'REJ' : 71 , 'S2' : 72 , 'S0' : 73 , 'S3' : 74 , 'RSTO' : 75 , 'RSTR' : 76 , 'RSTOS0' : 77 , 'OTH' : 78 ,\n",
        "       'SH' : 79}\n",
        "vector['protocol_type'] = vector['protocol_type'].replace(pmapping)\n",
        "vector['service'] = vector['service'].replace(pmapping)\n",
        "vector['flag'] = vector['flag'].replace(pmapping)"
      ]
    },
    {
      "cell_type": "code",
      "execution_count": null,
      "id": "b0032238",
      "metadata": {
        "id": "b0032238"
      },
      "outputs": [],
      "source": [
        "X_train, _, y_train, _ = train_test_split(vector, label, train_size = 0.0025, stratify = label , random_state=42)"
      ]
    },
    {
      "cell_type": "code",
      "source": [
        "df = pd.DataFrame(data=X_train)\n",
        "df.to_csv('/content/drive/My Drive/train.csv', index=False)"
      ],
      "metadata": {
        "id": "0qsplSYFF8db"
      },
      "id": "0qsplSYFF8db",
      "execution_count": null,
      "outputs": []
    },
    {
      "cell_type": "code",
      "source": [
        "df = pd.DataFrame(data=y_train)\n",
        "df.to_csv('/content/drive/My Drive/labels.csv', index=False)"
      ],
      "metadata": {
        "id": "sYRPfighHwia"
      },
      "id": "sYRPfighHwia",
      "execution_count": null,
      "outputs": []
    },
    {
      "cell_type": "code",
      "source": [
        "X_train=pd.read_csv(\"/content/drive/My Drive/train.csv\")\n",
        "y_train=pd.read_csv(\"/content/drive/My Drive/labels.csv\", names=[\"label\"])"
      ],
      "metadata": {
        "id": "Q6kLN8uMIAYz"
      },
      "id": "Q6kLN8uMIAYz",
      "execution_count": null,
      "outputs": []
    },
    {
      "cell_type": "code",
      "source": [
        "X_train"
      ],
      "metadata": {
        "colab": {
          "base_uri": "https://localhost:8080/",
          "height": 487
        },
        "id": "h3kk-ALCIWuK",
        "outputId": "12d15494-8dbe-4d43-e313-f10ee79123a6"
      },
      "id": "h3kk-ALCIWuK",
      "execution_count": null,
      "outputs": [
        {
          "output_type": "execute_result",
          "data": {
            "text/plain": [
              "       duration  protocol_type  service  flag  src_bytes  dst_bytes  land  \\\n",
              "0             0              4       13     2       1032          0     0   \n",
              "1             0              4       13     2       1032          0     0   \n",
              "2             0              4       13     2       1032          0     0   \n",
              "3             0              0       15    71          0          0     0   \n",
              "4             0              0       15    73          0          0     0   \n",
              "...         ...            ...      ...   ...        ...        ...   ...   \n",
              "12241         0              4       13     2        520          0     0   \n",
              "12242         0              4       13     2       1032          0     0   \n",
              "12243         0              0        1     2        302       1380     0   \n",
              "12244         0              4       13     2       1032          0     0   \n",
              "12245         0              4       13     2        520          0     0   \n",
              "\n",
              "       wrong_fragment  urgent  hot  ...  dst_host_count  dst_host_srv_count  \\\n",
              "0                   0       0    0  ...             255                 255   \n",
              "1                   0       0    0  ...             255                 255   \n",
              "2                   0       0    0  ...             255                 255   \n",
              "3                   0       0    0  ...             255                   2   \n",
              "4                   0       0    0  ...             255                   9   \n",
              "...               ...     ...  ...  ...             ...                 ...   \n",
              "12241               0       0    0  ...             255                 255   \n",
              "12242               0       0    0  ...             255                 255   \n",
              "12243               0       0    0  ...             255                 246   \n",
              "12244               0       0    0  ...             255                 255   \n",
              "12245               0       0    0  ...             255                 255   \n",
              "\n",
              "       dst_host_same_srv_rate  dst_host_diff_srv_rate  \\\n",
              "0                        1.00                    0.00   \n",
              "1                        1.00                    0.00   \n",
              "2                        1.00                    0.00   \n",
              "3                        0.01                    0.07   \n",
              "4                        0.04                    0.07   \n",
              "...                       ...                     ...   \n",
              "12241                    1.00                    0.00   \n",
              "12242                    1.00                    0.00   \n",
              "12243                    0.96                    0.01   \n",
              "12244                    1.00                    0.00   \n",
              "12245                    1.00                    0.00   \n",
              "\n",
              "       dst_host_same_src_port_rate  dst_host_srv_diff_host_rate  \\\n",
              "0                              1.0                          0.0   \n",
              "1                              1.0                          0.0   \n",
              "2                              1.0                          0.0   \n",
              "3                              0.0                          0.0   \n",
              "4                              0.0                          0.0   \n",
              "...                            ...                          ...   \n",
              "12241                          1.0                          0.0   \n",
              "12242                          1.0                          0.0   \n",
              "12243                          0.0                          0.0   \n",
              "12244                          1.0                          0.0   \n",
              "12245                          1.0                          0.0   \n",
              "\n",
              "       dst_host_serror_rate  dst_host_srv_serror_rate  dst_host_rerror_rate  \\\n",
              "0                       0.0                       0.0                   0.0   \n",
              "1                       0.0                       0.0                   0.0   \n",
              "2                       0.0                       0.0                   0.0   \n",
              "3                       0.0                       0.0                   1.0   \n",
              "4                       1.0                       1.0                   0.0   \n",
              "...                     ...                       ...                   ...   \n",
              "12241                   0.0                       0.0                   0.0   \n",
              "12242                   0.0                       0.0                   0.0   \n",
              "12243                   0.0                       0.0                   0.0   \n",
              "12244                   0.0                       0.0                   0.0   \n",
              "12245                   0.0                       0.0                   0.0   \n",
              "\n",
              "       dst_host_srv_rerror_rate  \n",
              "0                           0.0  \n",
              "1                           0.0  \n",
              "2                           0.0  \n",
              "3                           1.0  \n",
              "4                           0.0  \n",
              "...                         ...  \n",
              "12241                       0.0  \n",
              "12242                       0.0  \n",
              "12243                       0.0  \n",
              "12244                       0.0  \n",
              "12245                       0.0  \n",
              "\n",
              "[12246 rows x 40 columns]"
            ],
            "text/html": [
              "\n",
              "  <div id=\"df-71d1e08d-46be-4c0f-b701-5fce83df1049\">\n",
              "    <div class=\"colab-df-container\">\n",
              "      <div>\n",
              "<style scoped>\n",
              "    .dataframe tbody tr th:only-of-type {\n",
              "        vertical-align: middle;\n",
              "    }\n",
              "\n",
              "    .dataframe tbody tr th {\n",
              "        vertical-align: top;\n",
              "    }\n",
              "\n",
              "    .dataframe thead th {\n",
              "        text-align: right;\n",
              "    }\n",
              "</style>\n",
              "<table border=\"1\" class=\"dataframe\">\n",
              "  <thead>\n",
              "    <tr style=\"text-align: right;\">\n",
              "      <th></th>\n",
              "      <th>duration</th>\n",
              "      <th>protocol_type</th>\n",
              "      <th>service</th>\n",
              "      <th>flag</th>\n",
              "      <th>src_bytes</th>\n",
              "      <th>dst_bytes</th>\n",
              "      <th>land</th>\n",
              "      <th>wrong_fragment</th>\n",
              "      <th>urgent</th>\n",
              "      <th>hot</th>\n",
              "      <th>...</th>\n",
              "      <th>dst_host_count</th>\n",
              "      <th>dst_host_srv_count</th>\n",
              "      <th>dst_host_same_srv_rate</th>\n",
              "      <th>dst_host_diff_srv_rate</th>\n",
              "      <th>dst_host_same_src_port_rate</th>\n",
              "      <th>dst_host_srv_diff_host_rate</th>\n",
              "      <th>dst_host_serror_rate</th>\n",
              "      <th>dst_host_srv_serror_rate</th>\n",
              "      <th>dst_host_rerror_rate</th>\n",
              "      <th>dst_host_srv_rerror_rate</th>\n",
              "    </tr>\n",
              "  </thead>\n",
              "  <tbody>\n",
              "    <tr>\n",
              "      <th>0</th>\n",
              "      <td>0</td>\n",
              "      <td>4</td>\n",
              "      <td>13</td>\n",
              "      <td>2</td>\n",
              "      <td>1032</td>\n",
              "      <td>0</td>\n",
              "      <td>0</td>\n",
              "      <td>0</td>\n",
              "      <td>0</td>\n",
              "      <td>0</td>\n",
              "      <td>...</td>\n",
              "      <td>255</td>\n",
              "      <td>255</td>\n",
              "      <td>1.00</td>\n",
              "      <td>0.00</td>\n",
              "      <td>1.0</td>\n",
              "      <td>0.0</td>\n",
              "      <td>0.0</td>\n",
              "      <td>0.0</td>\n",
              "      <td>0.0</td>\n",
              "      <td>0.0</td>\n",
              "    </tr>\n",
              "    <tr>\n",
              "      <th>1</th>\n",
              "      <td>0</td>\n",
              "      <td>4</td>\n",
              "      <td>13</td>\n",
              "      <td>2</td>\n",
              "      <td>1032</td>\n",
              "      <td>0</td>\n",
              "      <td>0</td>\n",
              "      <td>0</td>\n",
              "      <td>0</td>\n",
              "      <td>0</td>\n",
              "      <td>...</td>\n",
              "      <td>255</td>\n",
              "      <td>255</td>\n",
              "      <td>1.00</td>\n",
              "      <td>0.00</td>\n",
              "      <td>1.0</td>\n",
              "      <td>0.0</td>\n",
              "      <td>0.0</td>\n",
              "      <td>0.0</td>\n",
              "      <td>0.0</td>\n",
              "      <td>0.0</td>\n",
              "    </tr>\n",
              "    <tr>\n",
              "      <th>2</th>\n",
              "      <td>0</td>\n",
              "      <td>4</td>\n",
              "      <td>13</td>\n",
              "      <td>2</td>\n",
              "      <td>1032</td>\n",
              "      <td>0</td>\n",
              "      <td>0</td>\n",
              "      <td>0</td>\n",
              "      <td>0</td>\n",
              "      <td>0</td>\n",
              "      <td>...</td>\n",
              "      <td>255</td>\n",
              "      <td>255</td>\n",
              "      <td>1.00</td>\n",
              "      <td>0.00</td>\n",
              "      <td>1.0</td>\n",
              "      <td>0.0</td>\n",
              "      <td>0.0</td>\n",
              "      <td>0.0</td>\n",
              "      <td>0.0</td>\n",
              "      <td>0.0</td>\n",
              "    </tr>\n",
              "    <tr>\n",
              "      <th>3</th>\n",
              "      <td>0</td>\n",
              "      <td>0</td>\n",
              "      <td>15</td>\n",
              "      <td>71</td>\n",
              "      <td>0</td>\n",
              "      <td>0</td>\n",
              "      <td>0</td>\n",
              "      <td>0</td>\n",
              "      <td>0</td>\n",
              "      <td>0</td>\n",
              "      <td>...</td>\n",
              "      <td>255</td>\n",
              "      <td>2</td>\n",
              "      <td>0.01</td>\n",
              "      <td>0.07</td>\n",
              "      <td>0.0</td>\n",
              "      <td>0.0</td>\n",
              "      <td>0.0</td>\n",
              "      <td>0.0</td>\n",
              "      <td>1.0</td>\n",
              "      <td>1.0</td>\n",
              "    </tr>\n",
              "    <tr>\n",
              "      <th>4</th>\n",
              "      <td>0</td>\n",
              "      <td>0</td>\n",
              "      <td>15</td>\n",
              "      <td>73</td>\n",
              "      <td>0</td>\n",
              "      <td>0</td>\n",
              "      <td>0</td>\n",
              "      <td>0</td>\n",
              "      <td>0</td>\n",
              "      <td>0</td>\n",
              "      <td>...</td>\n",
              "      <td>255</td>\n",
              "      <td>9</td>\n",
              "      <td>0.04</td>\n",
              "      <td>0.07</td>\n",
              "      <td>0.0</td>\n",
              "      <td>0.0</td>\n",
              "      <td>1.0</td>\n",
              "      <td>1.0</td>\n",
              "      <td>0.0</td>\n",
              "      <td>0.0</td>\n",
              "    </tr>\n",
              "    <tr>\n",
              "      <th>...</th>\n",
              "      <td>...</td>\n",
              "      <td>...</td>\n",
              "      <td>...</td>\n",
              "      <td>...</td>\n",
              "      <td>...</td>\n",
              "      <td>...</td>\n",
              "      <td>...</td>\n",
              "      <td>...</td>\n",
              "      <td>...</td>\n",
              "      <td>...</td>\n",
              "      <td>...</td>\n",
              "      <td>...</td>\n",
              "      <td>...</td>\n",
              "      <td>...</td>\n",
              "      <td>...</td>\n",
              "      <td>...</td>\n",
              "      <td>...</td>\n",
              "      <td>...</td>\n",
              "      <td>...</td>\n",
              "      <td>...</td>\n",
              "      <td>...</td>\n",
              "    </tr>\n",
              "    <tr>\n",
              "      <th>12241</th>\n",
              "      <td>0</td>\n",
              "      <td>4</td>\n",
              "      <td>13</td>\n",
              "      <td>2</td>\n",
              "      <td>520</td>\n",
              "      <td>0</td>\n",
              "      <td>0</td>\n",
              "      <td>0</td>\n",
              "      <td>0</td>\n",
              "      <td>0</td>\n",
              "      <td>...</td>\n",
              "      <td>255</td>\n",
              "      <td>255</td>\n",
              "      <td>1.00</td>\n",
              "      <td>0.00</td>\n",
              "      <td>1.0</td>\n",
              "      <td>0.0</td>\n",
              "      <td>0.0</td>\n",
              "      <td>0.0</td>\n",
              "      <td>0.0</td>\n",
              "      <td>0.0</td>\n",
              "    </tr>\n",
              "    <tr>\n",
              "      <th>12242</th>\n",
              "      <td>0</td>\n",
              "      <td>4</td>\n",
              "      <td>13</td>\n",
              "      <td>2</td>\n",
              "      <td>1032</td>\n",
              "      <td>0</td>\n",
              "      <td>0</td>\n",
              "      <td>0</td>\n",
              "      <td>0</td>\n",
              "      <td>0</td>\n",
              "      <td>...</td>\n",
              "      <td>255</td>\n",
              "      <td>255</td>\n",
              "      <td>1.00</td>\n",
              "      <td>0.00</td>\n",
              "      <td>1.0</td>\n",
              "      <td>0.0</td>\n",
              "      <td>0.0</td>\n",
              "      <td>0.0</td>\n",
              "      <td>0.0</td>\n",
              "      <td>0.0</td>\n",
              "    </tr>\n",
              "    <tr>\n",
              "      <th>12243</th>\n",
              "      <td>0</td>\n",
              "      <td>0</td>\n",
              "      <td>1</td>\n",
              "      <td>2</td>\n",
              "      <td>302</td>\n",
              "      <td>1380</td>\n",
              "      <td>0</td>\n",
              "      <td>0</td>\n",
              "      <td>0</td>\n",
              "      <td>0</td>\n",
              "      <td>...</td>\n",
              "      <td>255</td>\n",
              "      <td>246</td>\n",
              "      <td>0.96</td>\n",
              "      <td>0.01</td>\n",
              "      <td>0.0</td>\n",
              "      <td>0.0</td>\n",
              "      <td>0.0</td>\n",
              "      <td>0.0</td>\n",
              "      <td>0.0</td>\n",
              "      <td>0.0</td>\n",
              "    </tr>\n",
              "    <tr>\n",
              "      <th>12244</th>\n",
              "      <td>0</td>\n",
              "      <td>4</td>\n",
              "      <td>13</td>\n",
              "      <td>2</td>\n",
              "      <td>1032</td>\n",
              "      <td>0</td>\n",
              "      <td>0</td>\n",
              "      <td>0</td>\n",
              "      <td>0</td>\n",
              "      <td>0</td>\n",
              "      <td>...</td>\n",
              "      <td>255</td>\n",
              "      <td>255</td>\n",
              "      <td>1.00</td>\n",
              "      <td>0.00</td>\n",
              "      <td>1.0</td>\n",
              "      <td>0.0</td>\n",
              "      <td>0.0</td>\n",
              "      <td>0.0</td>\n",
              "      <td>0.0</td>\n",
              "      <td>0.0</td>\n",
              "    </tr>\n",
              "    <tr>\n",
              "      <th>12245</th>\n",
              "      <td>0</td>\n",
              "      <td>4</td>\n",
              "      <td>13</td>\n",
              "      <td>2</td>\n",
              "      <td>520</td>\n",
              "      <td>0</td>\n",
              "      <td>0</td>\n",
              "      <td>0</td>\n",
              "      <td>0</td>\n",
              "      <td>0</td>\n",
              "      <td>...</td>\n",
              "      <td>255</td>\n",
              "      <td>255</td>\n",
              "      <td>1.00</td>\n",
              "      <td>0.00</td>\n",
              "      <td>1.0</td>\n",
              "      <td>0.0</td>\n",
              "      <td>0.0</td>\n",
              "      <td>0.0</td>\n",
              "      <td>0.0</td>\n",
              "      <td>0.0</td>\n",
              "    </tr>\n",
              "  </tbody>\n",
              "</table>\n",
              "<p>12246 rows × 40 columns</p>\n",
              "</div>\n",
              "      <button class=\"colab-df-convert\" onclick=\"convertToInteractive('df-71d1e08d-46be-4c0f-b701-5fce83df1049')\"\n",
              "              title=\"Convert this dataframe to an interactive table.\"\n",
              "              style=\"display:none;\">\n",
              "        \n",
              "  <svg xmlns=\"http://www.w3.org/2000/svg\" height=\"24px\"viewBox=\"0 0 24 24\"\n",
              "       width=\"24px\">\n",
              "    <path d=\"M0 0h24v24H0V0z\" fill=\"none\"/>\n",
              "    <path d=\"M18.56 5.44l.94 2.06.94-2.06 2.06-.94-2.06-.94-.94-2.06-.94 2.06-2.06.94zm-11 1L8.5 8.5l.94-2.06 2.06-.94-2.06-.94L8.5 2.5l-.94 2.06-2.06.94zm10 10l.94 2.06.94-2.06 2.06-.94-2.06-.94-.94-2.06-.94 2.06-2.06.94z\"/><path d=\"M17.41 7.96l-1.37-1.37c-.4-.4-.92-.59-1.43-.59-.52 0-1.04.2-1.43.59L10.3 9.45l-7.72 7.72c-.78.78-.78 2.05 0 2.83L4 21.41c.39.39.9.59 1.41.59.51 0 1.02-.2 1.41-.59l7.78-7.78 2.81-2.81c.8-.78.8-2.07 0-2.86zM5.41 20L4 18.59l7.72-7.72 1.47 1.35L5.41 20z\"/>\n",
              "  </svg>\n",
              "      </button>\n",
              "      \n",
              "  <style>\n",
              "    .colab-df-container {\n",
              "      display:flex;\n",
              "      flex-wrap:wrap;\n",
              "      gap: 12px;\n",
              "    }\n",
              "\n",
              "    .colab-df-convert {\n",
              "      background-color: #E8F0FE;\n",
              "      border: none;\n",
              "      border-radius: 50%;\n",
              "      cursor: pointer;\n",
              "      display: none;\n",
              "      fill: #1967D2;\n",
              "      height: 32px;\n",
              "      padding: 0 0 0 0;\n",
              "      width: 32px;\n",
              "    }\n",
              "\n",
              "    .colab-df-convert:hover {\n",
              "      background-color: #E2EBFA;\n",
              "      box-shadow: 0px 1px 2px rgba(60, 64, 67, 0.3), 0px 1px 3px 1px rgba(60, 64, 67, 0.15);\n",
              "      fill: #174EA6;\n",
              "    }\n",
              "\n",
              "    [theme=dark] .colab-df-convert {\n",
              "      background-color: #3B4455;\n",
              "      fill: #D2E3FC;\n",
              "    }\n",
              "\n",
              "    [theme=dark] .colab-df-convert:hover {\n",
              "      background-color: #434B5C;\n",
              "      box-shadow: 0px 1px 3px 1px rgba(0, 0, 0, 0.15);\n",
              "      filter: drop-shadow(0px 1px 2px rgba(0, 0, 0, 0.3));\n",
              "      fill: #FFFFFF;\n",
              "    }\n",
              "  </style>\n",
              "\n",
              "      <script>\n",
              "        const buttonEl =\n",
              "          document.querySelector('#df-71d1e08d-46be-4c0f-b701-5fce83df1049 button.colab-df-convert');\n",
              "        buttonEl.style.display =\n",
              "          google.colab.kernel.accessAllowed ? 'block' : 'none';\n",
              "\n",
              "        async function convertToInteractive(key) {\n",
              "          const element = document.querySelector('#df-71d1e08d-46be-4c0f-b701-5fce83df1049');\n",
              "          const dataTable =\n",
              "            await google.colab.kernel.invokeFunction('convertToInteractive',\n",
              "                                                     [key], {});\n",
              "          if (!dataTable) return;\n",
              "\n",
              "          const docLinkHtml = 'Like what you see? Visit the ' +\n",
              "            '<a target=\"_blank\" href=https://colab.research.google.com/notebooks/data_table.ipynb>data table notebook</a>'\n",
              "            + ' to learn more about interactive tables.';\n",
              "          element.innerHTML = '';\n",
              "          dataTable['output_type'] = 'display_data';\n",
              "          await google.colab.output.renderOutput(dataTable, element);\n",
              "          const docLink = document.createElement('div');\n",
              "          docLink.innerHTML = docLinkHtml;\n",
              "          element.appendChild(docLink);\n",
              "        }\n",
              "      </script>\n",
              "    </div>\n",
              "  </div>\n",
              "  "
            ]
          },
          "metadata": {},
          "execution_count": 3
        }
      ]
    },
    {
      "cell_type": "code",
      "source": [
        "y_train"
      ],
      "metadata": {
        "colab": {
          "base_uri": "https://localhost:8080/",
          "height": 423
        },
        "id": "n_TJoHP9IkTV",
        "outputId": "71886b5a-1ec0-4177-db01-a34939839007"
      },
      "id": "n_TJoHP9IkTV",
      "execution_count": null,
      "outputs": [
        {
          "output_type": "execute_result",
          "data": {
            "text/plain": [
              "       label\n",
              "0          0\n",
              "1          5\n",
              "2          5\n",
              "3          5\n",
              "4          4\n",
              "...      ...\n",
              "12242      5\n",
              "12243      5\n",
              "12244      0\n",
              "12245      5\n",
              "12246      5\n",
              "\n",
              "[12247 rows x 1 columns]"
            ],
            "text/html": [
              "\n",
              "  <div id=\"df-a0e26634-5b0a-43ac-8fe5-a0e16198c13b\">\n",
              "    <div class=\"colab-df-container\">\n",
              "      <div>\n",
              "<style scoped>\n",
              "    .dataframe tbody tr th:only-of-type {\n",
              "        vertical-align: middle;\n",
              "    }\n",
              "\n",
              "    .dataframe tbody tr th {\n",
              "        vertical-align: top;\n",
              "    }\n",
              "\n",
              "    .dataframe thead th {\n",
              "        text-align: right;\n",
              "    }\n",
              "</style>\n",
              "<table border=\"1\" class=\"dataframe\">\n",
              "  <thead>\n",
              "    <tr style=\"text-align: right;\">\n",
              "      <th></th>\n",
              "      <th>label</th>\n",
              "    </tr>\n",
              "  </thead>\n",
              "  <tbody>\n",
              "    <tr>\n",
              "      <th>0</th>\n",
              "      <td>0</td>\n",
              "    </tr>\n",
              "    <tr>\n",
              "      <th>1</th>\n",
              "      <td>5</td>\n",
              "    </tr>\n",
              "    <tr>\n",
              "      <th>2</th>\n",
              "      <td>5</td>\n",
              "    </tr>\n",
              "    <tr>\n",
              "      <th>3</th>\n",
              "      <td>5</td>\n",
              "    </tr>\n",
              "    <tr>\n",
              "      <th>4</th>\n",
              "      <td>4</td>\n",
              "    </tr>\n",
              "    <tr>\n",
              "      <th>...</th>\n",
              "      <td>...</td>\n",
              "    </tr>\n",
              "    <tr>\n",
              "      <th>12242</th>\n",
              "      <td>5</td>\n",
              "    </tr>\n",
              "    <tr>\n",
              "      <th>12243</th>\n",
              "      <td>5</td>\n",
              "    </tr>\n",
              "    <tr>\n",
              "      <th>12244</th>\n",
              "      <td>0</td>\n",
              "    </tr>\n",
              "    <tr>\n",
              "      <th>12245</th>\n",
              "      <td>5</td>\n",
              "    </tr>\n",
              "    <tr>\n",
              "      <th>12246</th>\n",
              "      <td>5</td>\n",
              "    </tr>\n",
              "  </tbody>\n",
              "</table>\n",
              "<p>12247 rows × 1 columns</p>\n",
              "</div>\n",
              "      <button class=\"colab-df-convert\" onclick=\"convertToInteractive('df-a0e26634-5b0a-43ac-8fe5-a0e16198c13b')\"\n",
              "              title=\"Convert this dataframe to an interactive table.\"\n",
              "              style=\"display:none;\">\n",
              "        \n",
              "  <svg xmlns=\"http://www.w3.org/2000/svg\" height=\"24px\"viewBox=\"0 0 24 24\"\n",
              "       width=\"24px\">\n",
              "    <path d=\"M0 0h24v24H0V0z\" fill=\"none\"/>\n",
              "    <path d=\"M18.56 5.44l.94 2.06.94-2.06 2.06-.94-2.06-.94-.94-2.06-.94 2.06-2.06.94zm-11 1L8.5 8.5l.94-2.06 2.06-.94-2.06-.94L8.5 2.5l-.94 2.06-2.06.94zm10 10l.94 2.06.94-2.06 2.06-.94-2.06-.94-.94-2.06-.94 2.06-2.06.94z\"/><path d=\"M17.41 7.96l-1.37-1.37c-.4-.4-.92-.59-1.43-.59-.52 0-1.04.2-1.43.59L10.3 9.45l-7.72 7.72c-.78.78-.78 2.05 0 2.83L4 21.41c.39.39.9.59 1.41.59.51 0 1.02-.2 1.41-.59l7.78-7.78 2.81-2.81c.8-.78.8-2.07 0-2.86zM5.41 20L4 18.59l7.72-7.72 1.47 1.35L5.41 20z\"/>\n",
              "  </svg>\n",
              "      </button>\n",
              "      \n",
              "  <style>\n",
              "    .colab-df-container {\n",
              "      display:flex;\n",
              "      flex-wrap:wrap;\n",
              "      gap: 12px;\n",
              "    }\n",
              "\n",
              "    .colab-df-convert {\n",
              "      background-color: #E8F0FE;\n",
              "      border: none;\n",
              "      border-radius: 50%;\n",
              "      cursor: pointer;\n",
              "      display: none;\n",
              "      fill: #1967D2;\n",
              "      height: 32px;\n",
              "      padding: 0 0 0 0;\n",
              "      width: 32px;\n",
              "    }\n",
              "\n",
              "    .colab-df-convert:hover {\n",
              "      background-color: #E2EBFA;\n",
              "      box-shadow: 0px 1px 2px rgba(60, 64, 67, 0.3), 0px 1px 3px 1px rgba(60, 64, 67, 0.15);\n",
              "      fill: #174EA6;\n",
              "    }\n",
              "\n",
              "    [theme=dark] .colab-df-convert {\n",
              "      background-color: #3B4455;\n",
              "      fill: #D2E3FC;\n",
              "    }\n",
              "\n",
              "    [theme=dark] .colab-df-convert:hover {\n",
              "      background-color: #434B5C;\n",
              "      box-shadow: 0px 1px 3px 1px rgba(0, 0, 0, 0.15);\n",
              "      filter: drop-shadow(0px 1px 2px rgba(0, 0, 0, 0.3));\n",
              "      fill: #FFFFFF;\n",
              "    }\n",
              "  </style>\n",
              "\n",
              "      <script>\n",
              "        const buttonEl =\n",
              "          document.querySelector('#df-a0e26634-5b0a-43ac-8fe5-a0e16198c13b button.colab-df-convert');\n",
              "        buttonEl.style.display =\n",
              "          google.colab.kernel.accessAllowed ? 'block' : 'none';\n",
              "\n",
              "        async function convertToInteractive(key) {\n",
              "          const element = document.querySelector('#df-a0e26634-5b0a-43ac-8fe5-a0e16198c13b');\n",
              "          const dataTable =\n",
              "            await google.colab.kernel.invokeFunction('convertToInteractive',\n",
              "                                                     [key], {});\n",
              "          if (!dataTable) return;\n",
              "\n",
              "          const docLinkHtml = 'Like what you see? Visit the ' +\n",
              "            '<a target=\"_blank\" href=https://colab.research.google.com/notebooks/data_table.ipynb>data table notebook</a>'\n",
              "            + ' to learn more about interactive tables.';\n",
              "          element.innerHTML = '';\n",
              "          dataTable['output_type'] = 'display_data';\n",
              "          await google.colab.output.renderOutput(dataTable, element);\n",
              "          const docLink = document.createElement('div');\n",
              "          docLink.innerHTML = docLinkHtml;\n",
              "          element.appendChild(docLink);\n",
              "        }\n",
              "      </script>\n",
              "    </div>\n",
              "  </div>\n",
              "  "
            ]
          },
          "metadata": {},
          "execution_count": 4
        }
      ]
    },
    {
      "cell_type": "code",
      "source": [
        "X_train=np.asarray(X_train)\n",
        "y_train=np.asarray(y_train)\n",
        "y_train"
      ],
      "metadata": {
        "colab": {
          "base_uri": "https://localhost:8080/"
        },
        "id": "gKmKvTu7ImT6",
        "outputId": "c4ffdc9c-d1c5-4a55-ceb5-03ed4319d4f2"
      },
      "id": "gKmKvTu7ImT6",
      "execution_count": null,
      "outputs": [
        {
          "output_type": "execute_result",
          "data": {
            "text/plain": [
              "array([[0],\n",
              "       [5],\n",
              "       [5],\n",
              "       ...,\n",
              "       [0],\n",
              "       [5],\n",
              "       [5]])"
            ]
          },
          "metadata": {},
          "execution_count": 4
        }
      ]
    },
    {
      "cell_type": "code",
      "execution_count": null,
      "id": "d3c1f828",
      "metadata": {
        "colab": {
          "base_uri": "https://localhost:8080/"
        },
        "id": "d3c1f828",
        "outputId": "83f517d6-5584-4a7d-ecbd-249ceeba0a01"
      },
      "outputs": [
        {
          "output_type": "stream",
          "name": "stdout",
          "text": [
            "[[1.000 1.000 1.000 ... 0.231 1.000 0.945]\n",
            " [1.000 1.000 1.000 ... 0.231 1.000 0.945]\n",
            " [1.000 1.000 1.000 ... 0.231 1.000 0.945]\n",
            " ...\n",
            " [0.231 0.231 0.231 ... 1.000 0.231 0.205]\n",
            " [1.000 1.000 1.000 ... 0.231 1.000 0.945]\n",
            " [0.945 0.945 0.945 ... 0.205 0.945 1.000]]\n"
          ]
        }
      ],
      "source": [
        "# adjacency matrix\n",
        "W = cosine_similarity(X_train)\n",
        "print(W)"
      ]
    },
    {
      "cell_type": "code",
      "source": [],
      "metadata": {
        "id": "DDdvLqHqKBw9"
      },
      "id": "DDdvLqHqKBw9",
      "execution_count": null,
      "outputs": []
    },
    {
      "cell_type": "code",
      "execution_count": null,
      "id": "b96e730a",
      "metadata": {
        "scrolled": true,
        "colab": {
          "base_uri": "https://localhost:8080/"
        },
        "id": "b96e730a",
        "outputId": "b9a83952-7270-44a5-cebc-795f5efeb2e8"
      },
      "outputs": [
        {
          "output_type": "stream",
          "name": "stdout",
          "text": [
            "degree matrix:\n",
            "[[8840.001 0.000 0.000 ... 0.000 0.000 0.000]\n",
            " [0.000 8840.001 0.000 ... 0.000 0.000 0.000]\n",
            " [0.000 0.000 8840.001 ... 0.000 0.000 0.000]\n",
            " ...\n",
            " [0.000 0.000 0.000 ... 3723.549 0.000 0.000]\n",
            " [0.000 0.000 0.000 ... 0.000 8840.001 0.000]\n",
            " [0.000 0.000 0.000 ... 0.000 0.000 8887.145]]\n",
            "laplacian matrix:\n",
            "[[8839.001 -1.000 -1.000 ... -0.231 -1.000 -0.945]\n",
            " [-1.000 8839.001 -1.000 ... -0.231 -1.000 -0.945]\n",
            " [-1.000 -1.000 8839.001 ... -0.231 -1.000 -0.945]\n",
            " ...\n",
            " [-0.231 -0.231 -0.231 ... 3722.549 -0.231 -0.205]\n",
            " [-1.000 -1.000 -1.000 ... -0.231 8839.001 -0.945]\n",
            " [-0.945 -0.945 -0.945 ... -0.205 -0.945 8886.145]]\n"
          ]
        }
      ],
      "source": [
        "# degree matrix\n",
        "D = np.diag(np.sum(W, axis=1))\n",
        "print('degree matrix:')\n",
        "print(D)\n",
        "# laplacian matrix\n",
        "L = D - W\n",
        "print('laplacian matrix:')\n",
        "print(L)"
      ]
    },
    {
      "cell_type": "code",
      "execution_count": null,
      "id": "318dc483",
      "metadata": {
        "id": "318dc483"
      },
      "outputs": [],
      "source": [
        "e, v = np.linalg.eig(L)"
      ]
    },
    {
      "cell_type": "code",
      "execution_count": null,
      "id": "3375caed",
      "metadata": {
        "colab": {
          "base_uri": "https://localhost:8080/"
        },
        "id": "3375caed",
        "outputId": "4993a0d7-641c-4857-ded2-71e0785ea8a9"
      },
      "outputs": [
        {
          "output_type": "execute_result",
          "data": {
            "text/plain": [
              "array([[8839.001, -1.000, -1.000, ..., -0.231, -1.000, -0.945],\n",
              "       [-1.000, 8839.001, -1.000, ..., -0.231, -1.000, -0.945],\n",
              "       [-1.000, -1.000, 8839.001, ..., -0.231, -1.000, -0.945],\n",
              "       ...,\n",
              "       [-0.231, -0.231, -0.231, ..., 3722.549, -0.231, -0.205],\n",
              "       [-1.000, -1.000, -1.000, ..., -0.231, 8839.001, -0.945],\n",
              "       [-0.945, -0.945, -0.945, ..., -0.205, -0.945, 8886.145]])"
            ]
          },
          "metadata": {},
          "execution_count": 9
        }
      ],
      "source": [
        "L"
      ]
    },
    {
      "cell_type": "code",
      "execution_count": null,
      "id": "a31ed0f6",
      "metadata": {
        "id": "a31ed0f6"
      },
      "outputs": [],
      "source": [
        "vec=v.real"
      ]
    },
    {
      "cell_type": "code",
      "execution_count": null,
      "id": "d3069f82",
      "metadata": {
        "colab": {
          "base_uri": "https://localhost:8080/"
        },
        "id": "d3069f82",
        "outputId": "5f3c786e-2a75-401e-a559-8caa26a3230d"
      },
      "outputs": [
        {
          "output_type": "execute_result",
          "data": {
            "text/plain": [
              "array([[ 9.03655451e-03+0.j, -1.53621609e-04+0.j,  1.63333381e-04+0.j,\n",
              "        ..., -2.97019703e-04+0.j,  2.97019703e-04+0.j,\n",
              "         2.61551246e-03+0.j],\n",
              "       [ 9.03655451e-03+0.j, -1.53621609e-04+0.j,  1.63333381e-04+0.j,\n",
              "        ...,  6.14475188e-03+0.j, -6.14475183e-03+0.j,\n",
              "         3.21215623e-02+0.j],\n",
              "       [ 9.03655451e-03+0.j, -1.53621609e-04+0.j,  1.63333381e-04+0.j,\n",
              "        ..., -1.21036271e-02+0.j,  1.21036269e-02+0.j,\n",
              "        -3.79482434e-02+0.j],\n",
              "       ...,\n",
              "       [ 9.03655451e-03+0.j, -1.54390240e-04+0.j,  1.64333117e-04+0.j,\n",
              "        ...,  6.61429491e-17+0.j, -6.61429487e-17+0.j,\n",
              "         3.14863115e-16+0.j],\n",
              "       [ 9.03655451e-03+0.j, -1.53621609e-04+0.j,  1.63333381e-04+0.j,\n",
              "        ..., -6.42298444e-05+0.j,  6.42298433e-05+0.j,\n",
              "        -3.16178111e-05+0.j],\n",
              "       [ 9.03655451e-03+0.j, -1.53914379e-04+0.j,  1.63665865e-04+0.j,\n",
              "        ..., -3.97828578e-15+0.j,  3.97828574e-15+0.j,\n",
              "         6.70956807e-15+0.j]])"
            ]
          },
          "metadata": {},
          "execution_count": 11
        }
      ],
      "source": [
        "v"
      ]
    },
    {
      "cell_type": "code",
      "execution_count": null,
      "id": "307ed931",
      "metadata": {
        "colab": {
          "base_uri": "https://localhost:8080/"
        },
        "id": "307ed931",
        "outputId": "9714089c-90ba-4df8-a976-981b184eda68"
      },
      "outputs": [
        {
          "output_type": "execute_result",
          "data": {
            "text/plain": [
              "array([[0.009, -0.000, 0.000, ..., -0.000, 0.000, 0.003],\n",
              "       [0.009, -0.000, 0.000, ..., 0.006, -0.006, 0.032],\n",
              "       [0.009, -0.000, 0.000, ..., -0.012, 0.012, -0.038],\n",
              "       ...,\n",
              "       [0.009, -0.000, 0.000, ..., 0.000, -0.000, 0.000],\n",
              "       [0.009, -0.000, 0.000, ..., -0.000, 0.000, -0.000],\n",
              "       [0.009, -0.000, 0.000, ..., -0.000, 0.000, 0.000]])"
            ]
          },
          "metadata": {},
          "execution_count": 12
        }
      ],
      "source": [
        "vec"
      ]
    },
    {
      "cell_type": "code",
      "execution_count": null,
      "id": "7a0064a8",
      "metadata": {
        "id": "7a0064a8"
      },
      "outputs": [],
      "source": [
        "norm = np.linalg.norm(vec, axis=0, keepdims=True)\n",
        "normalized_Y = vec / norm"
      ]
    },
    {
      "cell_type": "code",
      "execution_count": null,
      "id": "e6ff425b",
      "metadata": {
        "colab": {
          "base_uri": "https://localhost:8080/"
        },
        "id": "e6ff425b",
        "outputId": "fa31dc23-fdc4-4061-a878-824a99a7753f"
      },
      "outputs": [
        {
          "output_type": "execute_result",
          "data": {
            "text/plain": [
              "array([-1.000, -1.000, -1.000, ..., 1.000, 1.000, 1.000])"
            ]
          },
          "metadata": {},
          "execution_count": 14
        }
      ],
      "source": [
        "np.unique(vec)"
      ]
    },
    {
      "cell_type": "code",
      "source": [
        "np.savetxt('/content/drive/My Drive/normy.csv', normalized_Y, delimiter=',')"
      ],
      "metadata": {
        "id": "57lFFdp6V0zG"
      },
      "id": "57lFFdp6V0zG",
      "execution_count": null,
      "outputs": []
    },
    {
      "cell_type": "code",
      "source": [
        "normalizedY = np.loadtxt('/content/drive/My Drive/normy.csv', delimiter=',')\n",
        "np.unique(normalizedY)"
      ],
      "metadata": {
        "colab": {
          "base_uri": "https://localhost:8080/"
        },
        "id": "bbHl8ns0WCcR",
        "outputId": "2c06bb37-f371-4e13-8c0a-8388e5aa4319"
      },
      "id": "bbHl8ns0WCcR",
      "execution_count": null,
      "outputs": [
        {
          "output_type": "execute_result",
          "data": {
            "text/plain": [
              "array([-1.000, -1.000, -1.000, ..., 1.000, 1.000, 1.000])"
            ]
          },
          "metadata": {},
          "execution_count": 5
        }
      ]
    },
    {
      "cell_type": "code",
      "execution_count": null,
      "id": "25e032eb",
      "metadata": {
        "colab": {
          "base_uri": "https://localhost:8080/"
        },
        "id": "25e032eb",
        "outputId": "4e19367d-47e9-49b7-cfec-44a04d8c316b"
      },
      "outputs": [
        {
          "output_type": "stream",
          "name": "stderr",
          "text": [
            "/usr/local/lib/python3.9/dist-packages/sklearn/cluster/_kmeans.py:870: FutureWarning: The default value of `n_init` will change from 10 to 'auto' in 1.4. Set the value of `n_init` explicitly to suppress the warning\n",
            "  warnings.warn(\n"
          ]
        }
      ],
      "source": [
        "kmeans = KMeans(n_clusters=23, random_state=42).fit(normalizedY)"
      ]
    },
    {
      "cell_type": "code",
      "execution_count": null,
      "id": "bb82379c",
      "metadata": {
        "id": "bb82379c"
      },
      "outputs": [],
      "source": [
        "predict = kmeans.predict(normalizedY)"
      ]
    },
    {
      "cell_type": "code",
      "source": [
        "for i in np.unique(predict):\n",
        "  print(f' count  {i} = {np.count_nonzero(predict == i)}')"
      ],
      "metadata": {
        "colab": {
          "base_uri": "https://localhost:8080/"
        },
        "id": "zlpTgnHZbKoK",
        "outputId": "b402a61b-e7a5-4271-f06a-50f33b4978c3"
      },
      "id": "zlpTgnHZbKoK",
      "execution_count": null,
      "outputs": [
        {
          "output_type": "stream",
          "name": "stdout",
          "text": [
            " count  0 = 10059\n",
            " count  1 = 410\n",
            " count  2 = 260\n",
            " count  3 = 369\n",
            " count  4 = 1\n",
            " count  5 = 22\n",
            " count  6 = 20\n",
            " count  7 = 128\n",
            " count  8 = 71\n",
            " count  9 = 2\n",
            " count  10 = 1\n",
            " count  11 = 9\n",
            " count  12 = 3\n",
            " count  13 = 18\n",
            " count  14 = 304\n",
            " count  15 = 35\n",
            " count  16 = 1\n",
            " count  17 = 8\n",
            " count  18 = 8\n",
            " count  19 = 1\n",
            " count  20 = 2\n",
            " count  21 = 139\n",
            " count  22 = 375\n"
          ]
        }
      ]
    },
    {
      "cell_type": "code",
      "execution_count": null,
      "id": "d7f29d05",
      "metadata": {
        "id": "d7f29d05"
      },
      "outputs": [],
      "source": [
        "def mapping(predicted, true, K):\n",
        "    mape = np.zeros ( (K, 23))\n",
        "    maped = np.zeros (12246)\n",
        "    for i in range(12246):\n",
        "        mape [predicted[i]][true[i]] = mape [predicted[i]][true[i]] + 1\n",
        "    for i in range(K):\n",
        "        t = np. argmax (mape , axis=1)\n",
        "    for i in range (12246) :\n",
        "        maped[i] = t[predicted[i]]\n",
        "    return maped"
      ]
    },
    {
      "cell_type": "code",
      "execution_count": null,
      "id": "ce97682b",
      "metadata": {
        "id": "ce97682b"
      },
      "outputs": [],
      "source": [
        "map=mapping(predict,y_train,23)"
      ]
    },
    {
      "cell_type": "code",
      "source": [
        "for i in np.unique(map):\n",
        "  print(f' count  {i} = {np.count_nonzero(map == i)}')"
      ],
      "metadata": {
        "colab": {
          "base_uri": "https://localhost:8080/"
        },
        "id": "WhWhCCzrcxez",
        "outputId": "09834e38-0bbb-499e-e5d1-0baaf01d35e4"
      },
      "id": "WhWhCCzrcxez",
      "execution_count": null,
      "outputs": [
        {
          "output_type": "stream",
          "name": "stdout",
          "text": [
            " count  0.0 = 30\n",
            " count  4.0 = 3\n",
            " count  5.0 = 12213\n"
          ]
        }
      ]
    },
    {
      "cell_type": "code",
      "execution_count": null,
      "id": "a02c327b",
      "metadata": {
        "colab": {
          "base_uri": "https://localhost:8080/"
        },
        "id": "a02c327b",
        "outputId": "4d54c5c7-be26-4744-843f-07565758a18e"
      },
      "outputs": [
        {
          "output_type": "execute_result",
          "data": {
            "text/plain": [
              "array([ 0,  4,  5,  7,  8,  9, 11, 14, 17, 20, 22])"
            ]
          },
          "metadata": {},
          "execution_count": 11
        }
      ],
      "source": [
        "np.unique(y_train)"
      ]
    },
    {
      "cell_type": "code",
      "source": [
        "map=map.astype(int)"
      ],
      "metadata": {
        "id": "BP7bCxEPjC6p"
      },
      "id": "BP7bCxEPjC6p",
      "execution_count": null,
      "outputs": []
    },
    {
      "cell_type": "code",
      "execution_count": null,
      "id": "fc7a3bdf",
      "metadata": {
        "id": "fc7a3bdf"
      },
      "outputs": [],
      "source": [
        "def conditional_entropy_python(K,predicted,true):\n",
        "    entropy=0\n",
        "    rows=len(true)\n",
        "    mape=np.zeros((K,23))\n",
        "    labels_number=len(np.unique(y_train))\n",
        "    for i in range(12246):\n",
        "        mape [predicted[i]][true[i]] = mape [predicted[i]][true[i]] + 1\n",
        "    for i in range(K):\n",
        "        row_entropy=0\n",
        "        for j in range(labels_number):\n",
        "            if mape[i][j]!=0:\n",
        "                fraction_of_label = mape[i][j]/mape[i].sum()\n",
        "                row_entropy = row_entropy - (fraction_of_label * math.log(fraction_of_label))\n",
        "        entropy = entropy + (mape[i].sum()/mape.sum())*row_entropy\n",
        "    return entropy"
      ]
    },
    {
      "cell_type": "code",
      "execution_count": null,
      "id": "3a2d7145",
      "metadata": {
        "scrolled": true,
        "colab": {
          "base_uri": "https://localhost:8080/"
        },
        "id": "3a2d7145",
        "outputId": "fae67b93-bb57-42d8-e255-cc1263ad99a4"
      },
      "outputs": [
        {
          "output_type": "execute_result",
          "data": {
            "text/plain": [
              "0.98764401124876"
            ]
          },
          "metadata": {},
          "execution_count": 131
        }
      ],
      "source": [
        "cEntropy = conditional_entropy_python(23,map,y_train)\n",
        "cEntropy"
      ]
    },
    {
      "cell_type": "code",
      "source": [
        "y_train = y_train[1:]"
      ],
      "metadata": {
        "id": "uUBg5KSedYCE"
      },
      "id": "uUBg5KSedYCE",
      "execution_count": null,
      "outputs": []
    },
    {
      "cell_type": "code",
      "execution_count": null,
      "id": "fd16b97d",
      "metadata": {
        "colab": {
          "base_uri": "https://localhost:8080/"
        },
        "id": "fd16b97d",
        "outputId": "8e4d2fe4-fbff-49c7-86a6-e6ddc71cdbab"
      },
      "outputs": [
        {
          "output_type": "execute_result",
          "data": {
            "text/plain": [
              "0.5733300669606403"
            ]
          },
          "metadata": {},
          "execution_count": 144
        }
      ],
      "source": [
        "precision=precision_score(y_train,map, average='micro')\n",
        "precision"
      ]
    },
    {
      "cell_type": "code",
      "execution_count": null,
      "id": "96958961",
      "metadata": {
        "colab": {
          "base_uri": "https://localhost:8080/"
        },
        "id": "96958961",
        "outputId": "d117442e-1795-485f-8093-3cfc19cc17b9"
      },
      "outputs": [
        {
          "output_type": "execute_result",
          "data": {
            "text/plain": [
              "0.43385595296423324"
            ]
          },
          "metadata": {},
          "execution_count": 160
        }
      ],
      "source": [
        "recall=recall_score(y_train,map,average='micro')\n",
        "recall"
      ]
    },
    {
      "cell_type": "code",
      "execution_count": null,
      "id": "cf7f20ac",
      "metadata": {
        "colab": {
          "base_uri": "https://localhost:8080/"
        },
        "id": "cf7f20ac",
        "outputId": "66365656-2398-4314-ad76-aa3dfcc2ea15"
      },
      "outputs": [
        {
          "output_type": "execute_result",
          "data": {
            "text/plain": [
              "0.4939358919672258"
            ]
          },
          "metadata": {},
          "execution_count": 161
        }
      ],
      "source": [
        "f1= (2 * precision * recall ) / (precision + recall )\n",
        "f1"
      ]
    },
    {
      "cell_type": "code",
      "execution_count": null,
      "id": "042e7083",
      "metadata": {
        "colab": {
          "base_uri": "https://localhost:8080/"
        },
        "id": "042e7083",
        "outputId": "1abee4b3-4528-4f0f-edfa-334aeb0fbe4f"
      },
      "outputs": [
        {
          "output_type": "execute_result",
          "data": {
            "text/plain": [
              "array([[0.000, 4.000, 13.000, ..., 0.000, 0.000, 0.000],\n",
              "       [0.000, 4.000, 13.000, ..., 0.000, 0.000, 0.000],\n",
              "       [0.000, 4.000, 13.000, ..., 0.000, 0.000, 0.000],\n",
              "       ...,\n",
              "       [0.000, 0.000, 1.000, ..., 0.000, 0.000, 0.000],\n",
              "       [0.000, 4.000, 13.000, ..., 0.000, 0.000, 0.000],\n",
              "       [0.000, 4.000, 13.000, ..., 0.000, 0.000, 0.000]])"
            ]
          },
          "metadata": {},
          "execution_count": 31
        }
      ],
      "source": [
        "X=X_train.astype(float)\n",
        "X"
      ]
    },
    {
      "cell_type": "code",
      "execution_count": null,
      "id": "a6502b0f",
      "metadata": {
        "id": "a6502b0f"
      },
      "outputs": [],
      "source": [
        "class MeanShift:\n",
        "\n",
        "    def __init__(self, bandwidth, max_iter=300, tol=1e-4):\n",
        "        '''\n",
        "        Define a mean-shift algorithm with known kernel bandwidth.\n",
        "        '''\n",
        "        self.bandwidth = bandwidth\n",
        "        self.max_iter = max_iter\n",
        "        self.tol = tol\n",
        "\n",
        "    def fit(self, X):\n",
        "        x = np.array(X)\n",
        "        n, dim = X.shape\n",
        "        cluster_centers_lst = []\n",
        "        cluster_labels = np.zeros(n)\n",
        "        cluster_centers_old = np.zeros(dim)\n",
        "        # Initialize each sample.\n",
        "        for t in range(n):\n",
        "            cluster_centers = x[t]\n",
        "            # Iterate until convergence.\n",
        "            i_iter = 0\n",
        "            while i_iter < self.max_iter:\n",
        "                if np.linalg.norm(cluster_centers_old - cluster_centers) > self.tol:\n",
        "                    cluster_centers_old = cluster_centers[:]\n",
        "                    sum_xi_weight = np.zeros(dim)\n",
        "                    sum_weight = np.zeros(dim)\n",
        "                    for i in range(n):\n",
        "                        r = np.linalg.norm((cluster_centers - x[i]) / self.bandwidth) ** 2\n",
        "                        weight = 0.5 * np.exp(-0.5 * r)\n",
        "                        xi_weight = x[i] * weight\n",
        "                        sum_xi_weight = sum_xi_weight + xi_weight\n",
        "                        sum_weight = sum_weight + weight\n",
        "                    cluster_centers = sum_xi_weight / sum_weight\n",
        "                else:\n",
        "                    break\n",
        "                i_iter = i_iter + 1\n",
        "            cluster_centers_lst.append(np.around(cluster_centers, decimals=2))\n",
        "        cluster_centers = np.unique(cluster_centers_lst, axis=0)\n",
        "        # Generate sample labels.\n",
        "        for i in range(n):\n",
        "            for j in range(len(cluster_centers)):\n",
        "                if np.array_equal(cluster_centers_lst[i], cluster_centers[j]):\n",
        "                    cluster_labels[i] = j\n",
        "        cluster_labels = cluster_labels.astype(int)\n",
        "        print(f\"\\nCluster centers: {cluster_centers}\")\n",
        "        return cluster_labels, cluster_centers"
      ]
    },
    {
      "cell_type": "code",
      "source": [
        "from sklearn.preprocessing import StandardScaler\n",
        "sc = StandardScaler()\n",
        "sc.fit(X)\n",
        "X = sc.transform(X)"
      ],
      "metadata": {
        "id": "eFGAOrOGWqZR"
      },
      "id": "eFGAOrOGWqZR",
      "execution_count": null,
      "outputs": []
    },
    {
      "cell_type": "code",
      "execution_count": null,
      "id": "edb32b01",
      "metadata": {
        "id": "edb32b01"
      },
      "outputs": [],
      "source": [
        "meanshift = MeanShift(bandwidth=2.1, max_iter=50, tol=1e-4)"
      ]
    },
    {
      "cell_type": "code",
      "execution_count": null,
      "id": "1795a645",
      "metadata": {
        "id": "1795a645"
      },
      "outputs": [],
      "source": [
        "cluster_labels, cluster_centers = meanshift.fit(X)"
      ]
    },
    {
      "cell_type": "code",
      "source": [
        "from sklearn.cluster import MeanShift\n",
        "clustering = MeanShift(bandwidth=4, max_iter=30).fit(X)"
      ],
      "metadata": {
        "id": "MLvo4JH9QvaX"
      },
      "id": "MLvo4JH9QvaX",
      "execution_count": null,
      "outputs": []
    },
    {
      "cell_type": "code",
      "source": [
        "cluster_centers = clustering.cluster_centers_\n",
        "cluster_labels = clustering.labels_"
      ],
      "metadata": {
        "id": "LN_Is-qXQ4HO"
      },
      "id": "LN_Is-qXQ4HO",
      "execution_count": null,
      "outputs": []
    },
    {
      "cell_type": "code",
      "source": [
        "length=len(cluster_centers)"
      ],
      "metadata": {
        "id": "ZRJ0948ldq85"
      },
      "id": "ZRJ0948ldq85",
      "execution_count": null,
      "outputs": []
    },
    {
      "cell_type": "code",
      "source": [
        "def mapping(predicted, true, K):\n",
        "    mape = np.zeros ( (K, 23))\n",
        "    maped = np.zeros (12246)\n",
        "    for i in range(12246):\n",
        "        mape [predicted[i]][true[i]] = mape [predicted[i]][true[i]] + 1\n",
        "    for i in range(K):\n",
        "        t = np. argmax (mape , axis=1)\n",
        "    for i in range (12246) :\n",
        "        maped[i] = t[predicted[i]]\n",
        "    return maped, t"
      ],
      "metadata": {
        "id": "fiOK7JoDdhrQ"
      },
      "id": "fiOK7JoDdhrQ",
      "execution_count": null,
      "outputs": []
    },
    {
      "cell_type": "code",
      "source": [
        "maped, clusters = mapping(cluster_labels,y_train,length)"
      ],
      "metadata": {
        "id": "t1swxpU0dHZU"
      },
      "id": "t1swxpU0dHZU",
      "execution_count": null,
      "outputs": []
    },
    {
      "cell_type": "code",
      "source": [
        "len(maped)"
      ],
      "metadata": {
        "colab": {
          "base_uri": "https://localhost:8080/"
        },
        "id": "h7VDqVkZeXCI",
        "outputId": "7db74572-4642-45a2-f606-c494cbcf140c"
      },
      "id": "h7VDqVkZeXCI",
      "execution_count": null,
      "outputs": [
        {
          "output_type": "execute_result",
          "data": {
            "text/plain": [
              "12246"
            ]
          },
          "metadata": {},
          "execution_count": 178
        }
      ]
    },
    {
      "cell_type": "code",
      "source": [
        "for i in np.unique(maped):\n",
        "  print(f' count  {i} = {np.count_nonzero(maped == i)}')"
      ],
      "metadata": {
        "colab": {
          "base_uri": "https://localhost:8080/"
        },
        "id": "D73jGCi-e6u4",
        "outputId": "4f79b40d-85a2-4000-e57e-2eaadac4aa94"
      },
      "id": "D73jGCi-e6u4",
      "execution_count": null,
      "outputs": [
        {
          "output_type": "stream",
          "name": "stdout",
          "text": [
            " count  0.0 = 2234\n",
            " count  4.0 = 2681\n",
            " count  5.0 = 7229\n",
            " count  7.0 = 1\n",
            " count  8.0 = 2\n",
            " count  9.0 = 23\n",
            " count  11.0 = 4\n",
            " count  14.0 = 1\n",
            " count  17.0 = 30\n",
            " count  20.0 = 4\n",
            " count  22.0 = 37\n"
          ]
        }
      ]
    },
    {
      "cell_type": "code",
      "execution_count": null,
      "id": "d8de9c9c",
      "metadata": {
        "colab": {
          "base_uri": "https://localhost:8080/"
        },
        "id": "d8de9c9c",
        "outputId": "af063d86-61e2-4f14-9382-ef83347d6494"
      },
      "outputs": [
        {
          "output_type": "execute_result",
          "data": {
            "text/plain": [
              "array([0, 0, 0, ..., 2, 0, 0])"
            ]
          },
          "metadata": {},
          "execution_count": 180
        }
      ],
      "source": [
        "cluster_labels"
      ]
    },
    {
      "cell_type": "code",
      "execution_count": null,
      "id": "104c409d",
      "metadata": {
        "colab": {
          "base_uri": "https://localhost:8080/"
        },
        "id": "104c409d",
        "outputId": "89e5d0f4-fcbf-4357-edf2-cff69f3c8f5f"
      },
      "outputs": [
        {
          "output_type": "execute_result",
          "data": {
            "text/plain": [
              "array([[-0.069, 0.797, 0.156, ..., -0.470, -0.244, -0.242],\n",
              "       [-0.069, -1.265, 0.539, ..., 2.131, -0.245, -0.242],\n",
              "       [-0.068, -1.006, -1.465, ..., -0.468, -0.233, -0.229],\n",
              "       ...,\n",
              "       [-0.069, -1.265, -1.906, ..., -0.470, -0.245, -0.242],\n",
              "       [-0.069, -1.265, -1.906, ..., -0.470, 2.997, 4.129],\n",
              "       [-0.069, -1.265, -1.906, ..., -0.470, -0.245, -0.242]])"
            ]
          },
          "metadata": {},
          "execution_count": 181
        }
      ],
      "source": [
        "cluster_centers"
      ]
    },
    {
      "cell_type": "code",
      "execution_count": null,
      "id": "a0be1870",
      "metadata": {
        "colab": {
          "base_uri": "https://localhost:8080/"
        },
        "id": "a0be1870",
        "outputId": "447e97b2-f3dd-46e0-84ff-e993df8be667"
      },
      "outputs": [
        {
          "output_type": "execute_result",
          "data": {
            "text/plain": [
              "array([0.000, 4.000, 5.000, 7.000, 8.000, 9.000, 11.000, 14.000, 17.000,\n",
              "       20.000, 22.000])"
            ]
          },
          "metadata": {},
          "execution_count": 182
        }
      ],
      "source": [
        "np.unique(maped)"
      ]
    },
    {
      "cell_type": "code",
      "execution_count": null,
      "id": "573d93c3",
      "metadata": {
        "colab": {
          "base_uri": "https://localhost:8080/"
        },
        "id": "573d93c3",
        "outputId": "0ddcc500-e4c0-4d13-a1ae-f20ace3db25a"
      },
      "outputs": [
        {
          "output_type": "execute_result",
          "data": {
            "text/plain": [
              "0.8583143518164931"
            ]
          },
          "metadata": {},
          "execution_count": 183
        }
      ],
      "source": [
        "recall2=recall_score(y_train,maped,average='macro')\n",
        "recall2"
      ]
    },
    {
      "cell_type": "code",
      "execution_count": null,
      "id": "d687f86c",
      "metadata": {
        "colab": {
          "base_uri": "https://localhost:8080/"
        },
        "id": "d687f86c",
        "outputId": "eefec3e6-5dfc-4442-9fd1-a5893eb2cb6d"
      },
      "outputs": [
        {
          "output_type": "execute_result",
          "data": {
            "text/plain": [
              "0.9817899722358321"
            ]
          },
          "metadata": {},
          "execution_count": 184
        }
      ],
      "source": [
        "precision2=precision_score(y_train,maped, average='micro')\n",
        "precision2"
      ]
    },
    {
      "cell_type": "code",
      "execution_count": null,
      "id": "1f5b3a76",
      "metadata": {
        "colab": {
          "base_uri": "https://localhost:8080/"
        },
        "id": "1f5b3a76",
        "outputId": "f97f6d59-f57e-47a7-e56b-ffd3f2942509"
      },
      "outputs": [
        {
          "output_type": "execute_result",
          "data": {
            "text/plain": [
              "0.9159093999450527"
            ]
          },
          "metadata": {},
          "execution_count": 185
        }
      ],
      "source": [
        "f12= (2 * precision2 * recall2 ) / (precision2 + recall2 )\n",
        "f12"
      ]
    },
    {
      "cell_type": "code",
      "execution_count": null,
      "id": "5ecb555f",
      "metadata": {
        "id": "5ecb555f"
      },
      "outputs": [],
      "source": [
        "cEntropy2 = conditional_entropy_python(23,maped.astype(int),y_train)\n"
      ]
    },
    {
      "cell_type": "code",
      "source": [
        "cEntropy2"
      ],
      "metadata": {
        "colab": {
          "base_uri": "https://localhost:8080/"
        },
        "id": "fZgWOpcWmZab",
        "outputId": "f01c89b8-9f32-49f7-ce88-fa839230538c"
      },
      "id": "fZgWOpcWmZab",
      "execution_count": null,
      "outputs": [
        {
          "output_type": "execute_result",
          "data": {
            "text/plain": [
              "0.5299690112487601"
            ]
          },
          "metadata": {},
          "execution_count": 191
        }
      ]
    },
    {
      "cell_type": "code",
      "source": [],
      "metadata": {
        "id": "V17folftma73"
      },
      "id": "V17folftma73",
      "execution_count": null,
      "outputs": []
    }
  ],
  "metadata": {
    "kernelspec": {
      "display_name": "Python 3 (ipykernel)",
      "language": "python",
      "name": "python3"
    },
    "language_info": {
      "codemirror_mode": {
        "name": "ipython",
        "version": 3
      },
      "file_extension": ".py",
      "mimetype": "text/x-python",
      "name": "python",
      "nbconvert_exporter": "python",
      "pygments_lexer": "ipython3",
      "version": "3.9.13"
    },
    "colab": {
      "provenance": []
    }
  },
  "nbformat": 4,
  "nbformat_minor": 5
}